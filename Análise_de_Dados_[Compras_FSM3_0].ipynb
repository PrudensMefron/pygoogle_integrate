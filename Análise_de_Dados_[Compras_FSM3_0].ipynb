{
  "nbformat": 4,
  "nbformat_minor": 0,
  "metadata": {
    "colab": {
      "provenance": [],
      "include_colab_link": true
    },
    "kernelspec": {
      "name": "python3",
      "display_name": "Python 3"
    },
    "language_info": {
      "name": "python"
    }
  },
  "cells": [
    {
      "cell_type": "markdown",
      "metadata": {
        "id": "view-in-github",
        "colab_type": "text"
      },
      "source": [
        "<a href=\"https://colab.research.google.com/github/PrudensMefron/pygoogle_integrate/blob/main/An%C3%A1lise_de_Dados_%5BCompras_FSM3_0%5D.ipynb\" target=\"_parent\"><img src=\"https://colab.research.google.com/assets/colab-badge.svg\" alt=\"Open In Colab\"/></a>"
      ]
    },
    {
      "cell_type": "markdown",
      "source": [
        "# Google Drive (Autenticação)\n",
        "Necessário **ATIVAR PRIMEIRO** para poder acessar a sua conta conta Google e o Drive"
      ],
      "metadata": {
        "id": "taw0O9EpKNpe"
      }
    },
    {
      "cell_type": "markdown",
      "source": [
        "## GSpread to read Google Sheets\n",
        "Here we use the GSpread lib to access the current user Google Drive, then access the Google Sheet throughout the ID key of the sheet.\n",
        "\n",
        "Next we get the SET worksheet, who stands for September."
      ],
      "metadata": {
        "id": "MFvJqFZTiydi"
      }
    },
    {
      "cell_type": "code",
      "execution_count": null,
      "metadata": {
        "id": "LatusGM0Ed4_"
      },
      "outputs": [],
      "source": [
        "from google.colab import auth\n",
        "from google.auth import default\n",
        "import gspread\n",
        "import pandas as pd\n",
        "\n",
        "\n",
        "## Autenticação\n",
        "auth.authenticate_user()\n",
        "creds, _ = default()\n",
        "\n",
        "gc = gspread.authorize(creds)"
      ]
    },
    {
      "cell_type": "markdown",
      "source": [
        "# Carregando planilhas\n",
        "Necessário **ATIVAR** para poder puxar os dados da planilha 'Compras FSM3.0'"
      ],
      "metadata": {
        "id": "qKKomiYxhaAY"
      }
    },
    {
      "cell_type": "markdown",
      "source": [
        "Código necessário para ler a planilha do google sheets e iniciar o tratamento de dados."
      ],
      "metadata": {
        "id": "i1YKjOBci3ro"
      }
    },
    {
      "cell_type": "code",
      "source": [
        "def openGoogleSheet(key):\n",
        "  sheet = gc.open_by_key(key)\n",
        "  return sheet\n",
        "\n",
        "def findACell(inputWorksheet, keyFind):\n",
        "  worksheet = inputWorksheet\n",
        "  cell = worksheet.find(keyFind)\n",
        "  print(\"Found something at R%sC%s\" % (cell.row, cell.col))\n",
        "\n",
        "sh = openGoogleSheet(\"1minJJFe0ii_V2vFkzvckATFJJjn_L7uA8vjDm1mvEp8\")"
      ],
      "metadata": {
        "id": "53uHKELQhdOY"
      },
      "execution_count": null,
      "outputs": []
    },
    {
      "cell_type": "markdown",
      "source": [
        "# Configurando Variáveis\n",
        "Certifique-se de **ATIVAR** este código para o bom funcionamento do Notebook."
      ],
      "metadata": {
        "id": "NEC--st1g9Qc"
      }
    },
    {
      "cell_type": "markdown",
      "source": [
        "## Aqui ficam as variáveis\n",
        "Todas as principais variáveis usadas durante o Notebook são criadas aqui."
      ],
      "metadata": {
        "id": "gvUwWxnSjJNv"
      }
    },
    {
      "cell_type": "code",
      "source": [
        "worksheet = sh.worksheet(\"AGO\")\n",
        "data_frame = pd.DataFrame(worksheet.get_all_records())\n",
        "\n",
        "utm_source = 'Utm Source'\n",
        "utm_campaign = 'Utm Campaign'\n",
        "utm_medium = 'Utm Medium'\n",
        "utm_term = 'Utm Term'\n",
        "utm_content = 'Utm Content'"
      ],
      "metadata": {
        "id": "HR6F5FiZg_0r"
      },
      "execution_count": null,
      "outputs": []
    },
    {
      "cell_type": "markdown",
      "source": [
        "## Modificando o Mês"
      ],
      "metadata": {
        "id": "PRU6RwPilULb"
      }
    },
    {
      "cell_type": "markdown",
      "source": [
        "### Janeiro"
      ],
      "metadata": {
        "id": "g9sS5wP3lZgc"
      }
    },
    {
      "cell_type": "code",
      "source": [
        "worksheet = sh.worksheet(\"JAN\")\n",
        "data_frame = pd.DataFrame(worksheet.get_all_records())"
      ],
      "metadata": {
        "id": "80zWDJl5lXUU"
      },
      "execution_count": null,
      "outputs": []
    },
    {
      "cell_type": "markdown",
      "source": [
        "### Fevereiro"
      ],
      "metadata": {
        "id": "RXWELcz9libj"
      }
    },
    {
      "cell_type": "code",
      "source": [
        "worksheet = sh.worksheet(\"FEV\")\n",
        "data_frame = pd.DataFrame(worksheet.get_all_records())"
      ],
      "metadata": {
        "id": "47MjpEqllkNp"
      },
      "execution_count": null,
      "outputs": []
    },
    {
      "cell_type": "markdown",
      "source": [
        "### Março"
      ],
      "metadata": {
        "id": "HK5eNva3lml8"
      }
    },
    {
      "cell_type": "code",
      "source": [
        "worksheet = sh.worksheet(\"MAR\")\n",
        "data_frame = pd.DataFrame(worksheet.get_all_records())"
      ],
      "metadata": {
        "id": "egIItsSCloh3"
      },
      "execution_count": null,
      "outputs": []
    },
    {
      "cell_type": "markdown",
      "source": [
        "### Abril"
      ],
      "metadata": {
        "id": "vh7cT6A8lqej"
      }
    },
    {
      "cell_type": "code",
      "source": [
        "worksheet = sh.worksheet(\"ABR\")\n",
        "data_frame = pd.DataFrame(worksheet.get_all_records())"
      ],
      "metadata": {
        "id": "aMPhx-AOlsXn"
      },
      "execution_count": null,
      "outputs": []
    },
    {
      "cell_type": "markdown",
      "source": [
        "### Maio"
      ],
      "metadata": {
        "id": "iyQZIPRbluZv"
      }
    },
    {
      "cell_type": "code",
      "source": [
        "worksheet = sh.worksheet(\"MAI\")\n",
        "data_frame = pd.DataFrame(worksheet.get_all_records())"
      ],
      "metadata": {
        "id": "U-5FkMGylvxh"
      },
      "execution_count": null,
      "outputs": []
    },
    {
      "cell_type": "markdown",
      "source": [
        "### Junho"
      ],
      "metadata": {
        "id": "pMxKxPrGlxXU"
      }
    },
    {
      "cell_type": "code",
      "source": [
        "worksheet = sh.worksheet(\"JUN\")\n",
        "data_frame = pd.DataFrame(worksheet.get_all_records())"
      ],
      "metadata": {
        "id": "xHjIGRl3lzO4"
      },
      "execution_count": null,
      "outputs": []
    },
    {
      "cell_type": "markdown",
      "source": [
        "### Julho"
      ],
      "metadata": {
        "id": "cBqPq-3il15O"
      }
    },
    {
      "cell_type": "code",
      "source": [
        "worksheet = sh.worksheet(\"JUL\")\n",
        "data_frame = pd.DataFrame(worksheet.get_all_records())"
      ],
      "metadata": {
        "id": "n6fst0f2l3TZ"
      },
      "execution_count": null,
      "outputs": []
    },
    {
      "cell_type": "markdown",
      "source": [
        "### Agosto"
      ],
      "metadata": {
        "id": "QAEpikxkl46a"
      }
    },
    {
      "cell_type": "code",
      "source": [
        "worksheet = sh.worksheet(\"AGO\")\n",
        "data_frame = pd.DataFrame(worksheet.get_all_records())"
      ],
      "metadata": {
        "id": "TtMh_zKjl6Te"
      },
      "execution_count": null,
      "outputs": []
    },
    {
      "cell_type": "markdown",
      "source": [
        "### Setembro"
      ],
      "metadata": {
        "id": "QVZjeopXl_LS"
      }
    },
    {
      "cell_type": "code",
      "source": [
        "worksheet = sh.worksheet(\"SET\")\n",
        "data_frame = pd.DataFrame(worksheet.get_all_records())"
      ],
      "metadata": {
        "id": "wktYAMSnmAnQ"
      },
      "execution_count": null,
      "outputs": []
    },
    {
      "cell_type": "markdown",
      "source": [
        "## Listing UTMs to create the variables"
      ],
      "metadata": {
        "id": "SHl3WwE3OKkU"
      }
    },
    {
      "cell_type": "code",
      "source": [],
      "metadata": {
        "id": "Ln2oW1VHOXRo"
      },
      "execution_count": null,
      "outputs": []
    },
    {
      "cell_type": "markdown",
      "source": [
        "# Trabalhando os dados\n",
        "Aqui você vai encontrar as funções para ler e interpretar os dados.\n",
        "\n",
        "Lembre-se de abrir os tópicos e ler com atenção a documentação."
      ],
      "metadata": {
        "id": "MNz8U-QTVHVe"
      }
    },
    {
      "cell_type": "markdown",
      "source": [
        "## Query Orgânico Instagram\n",
        "\n",
        "Utilize o [Modificando o Mês](https://colab.research.google.com/drive/16qgpRMdeW54FwLleLK3egjkrGHzrVgOx#scrollTo=PRU6RwPilULb&line=1&uniqifier=1) para alternar os meses de pesquisa"
      ],
      "metadata": {
        "id": "ud7LyP0Ok78E"
      }
    },
    {
      "cell_type": "code",
      "source": [
        "## Sets 'Utm Campaign' as the column to be queried\n",
        "\n",
        "## Search for\n",
        "insta_bio_query = ((data_frame[utm_campaign] == 'wn-organico-bio-insta-fsm') & (data_frame[utm_source] == 'organico'))\n",
        "\n",
        "data_frame.loc[insta_bio_query, ['Nome', 'Email', 'Utm Source', 'Utm Campaign', 'Pagina de Captura']]"
      ],
      "metadata": {
        "id": "MgKN93ocFx6h",
        "outputId": "39f09a3f-b0ec-43dc-d304-e3a0f8e49185",
        "colab": {
          "base_uri": "https://localhost:8080/",
          "height": 143
        }
      },
      "execution_count": null,
      "outputs": [
        {
          "output_type": "execute_result",
          "data": {
            "text/plain": [
              "       Nome                            Email Utm Source  \\\n",
              "43   Mayara    mayaraxavier.nunesp@gmail.com   organico   \n",
              "44  Isabela  isabelacoliveira@outlook.com.br   organico   \n",
              "60   Lorena        lorenarsantos78@gmail.com   organico   \n",
              "\n",
              "                 Utm Campaign  \\\n",
              "43  wn-organico-bio-insta-fsm   \n",
              "44  wn-organico-bio-insta-fsm   \n",
              "60  wn-organico-bio-insta-fsm   \n",
              "\n",
              "                                    Pagina de Captura  \n",
              "43  WEBINÁRIO I ESTRATÉGIA 10P I PERPÉTUO I FEV24 ...  \n",
              "44  WEBINÁRIO I ESTRATÉGIA 10P I PERPÉTUO I FEV24 ...  \n",
              "60  WEBINÁRIO I ESTRATÉGIA 10P I PERPÉTUO I FEV24 ...  "
            ],
            "text/html": [
              "\n",
              "  <div id=\"df-4ec2fb2b-60c2-4983-8b81-acb3abc348f5\" class=\"colab-df-container\">\n",
              "    <div>\n",
              "<style scoped>\n",
              "    .dataframe tbody tr th:only-of-type {\n",
              "        vertical-align: middle;\n",
              "    }\n",
              "\n",
              "    .dataframe tbody tr th {\n",
              "        vertical-align: top;\n",
              "    }\n",
              "\n",
              "    .dataframe thead th {\n",
              "        text-align: right;\n",
              "    }\n",
              "</style>\n",
              "<table border=\"1\" class=\"dataframe\">\n",
              "  <thead>\n",
              "    <tr style=\"text-align: right;\">\n",
              "      <th></th>\n",
              "      <th>Nome</th>\n",
              "      <th>Email</th>\n",
              "      <th>Utm Source</th>\n",
              "      <th>Utm Campaign</th>\n",
              "      <th>Pagina de Captura</th>\n",
              "    </tr>\n",
              "  </thead>\n",
              "  <tbody>\n",
              "    <tr>\n",
              "      <th>43</th>\n",
              "      <td>Mayara</td>\n",
              "      <td>mayaraxavier.nunesp@gmail.com</td>\n",
              "      <td>organico</td>\n",
              "      <td>wn-organico-bio-insta-fsm</td>\n",
              "      <td>WEBINÁRIO I ESTRATÉGIA 10P I PERPÉTUO I FEV24 ...</td>\n",
              "    </tr>\n",
              "    <tr>\n",
              "      <th>44</th>\n",
              "      <td>Isabela</td>\n",
              "      <td>isabelacoliveira@outlook.com.br</td>\n",
              "      <td>organico</td>\n",
              "      <td>wn-organico-bio-insta-fsm</td>\n",
              "      <td>WEBINÁRIO I ESTRATÉGIA 10P I PERPÉTUO I FEV24 ...</td>\n",
              "    </tr>\n",
              "    <tr>\n",
              "      <th>60</th>\n",
              "      <td>Lorena</td>\n",
              "      <td>lorenarsantos78@gmail.com</td>\n",
              "      <td>organico</td>\n",
              "      <td>wn-organico-bio-insta-fsm</td>\n",
              "      <td>WEBINÁRIO I ESTRATÉGIA 10P I PERPÉTUO I FEV24 ...</td>\n",
              "    </tr>\n",
              "  </tbody>\n",
              "</table>\n",
              "</div>\n",
              "    <div class=\"colab-df-buttons\">\n",
              "\n",
              "  <div class=\"colab-df-container\">\n",
              "    <button class=\"colab-df-convert\" onclick=\"convertToInteractive('df-4ec2fb2b-60c2-4983-8b81-acb3abc348f5')\"\n",
              "            title=\"Convert this dataframe to an interactive table.\"\n",
              "            style=\"display:none;\">\n",
              "\n",
              "  <svg xmlns=\"http://www.w3.org/2000/svg\" height=\"24px\" viewBox=\"0 -960 960 960\">\n",
              "    <path d=\"M120-120v-720h720v720H120Zm60-500h600v-160H180v160Zm220 220h160v-160H400v160Zm0 220h160v-160H400v160ZM180-400h160v-160H180v160Zm440 0h160v-160H620v160ZM180-180h160v-160H180v160Zm440 0h160v-160H620v160Z\"/>\n",
              "  </svg>\n",
              "    </button>\n",
              "\n",
              "  <style>\n",
              "    .colab-df-container {\n",
              "      display:flex;\n",
              "      gap: 12px;\n",
              "    }\n",
              "\n",
              "    .colab-df-convert {\n",
              "      background-color: #E8F0FE;\n",
              "      border: none;\n",
              "      border-radius: 50%;\n",
              "      cursor: pointer;\n",
              "      display: none;\n",
              "      fill: #1967D2;\n",
              "      height: 32px;\n",
              "      padding: 0 0 0 0;\n",
              "      width: 32px;\n",
              "    }\n",
              "\n",
              "    .colab-df-convert:hover {\n",
              "      background-color: #E2EBFA;\n",
              "      box-shadow: 0px 1px 2px rgba(60, 64, 67, 0.3), 0px 1px 3px 1px rgba(60, 64, 67, 0.15);\n",
              "      fill: #174EA6;\n",
              "    }\n",
              "\n",
              "    .colab-df-buttons div {\n",
              "      margin-bottom: 4px;\n",
              "    }\n",
              "\n",
              "    [theme=dark] .colab-df-convert {\n",
              "      background-color: #3B4455;\n",
              "      fill: #D2E3FC;\n",
              "    }\n",
              "\n",
              "    [theme=dark] .colab-df-convert:hover {\n",
              "      background-color: #434B5C;\n",
              "      box-shadow: 0px 1px 3px 1px rgba(0, 0, 0, 0.15);\n",
              "      filter: drop-shadow(0px 1px 2px rgba(0, 0, 0, 0.3));\n",
              "      fill: #FFFFFF;\n",
              "    }\n",
              "  </style>\n",
              "\n",
              "    <script>\n",
              "      const buttonEl =\n",
              "        document.querySelector('#df-4ec2fb2b-60c2-4983-8b81-acb3abc348f5 button.colab-df-convert');\n",
              "      buttonEl.style.display =\n",
              "        google.colab.kernel.accessAllowed ? 'block' : 'none';\n",
              "\n",
              "      async function convertToInteractive(key) {\n",
              "        const element = document.querySelector('#df-4ec2fb2b-60c2-4983-8b81-acb3abc348f5');\n",
              "        const dataTable =\n",
              "          await google.colab.kernel.invokeFunction('convertToInteractive',\n",
              "                                                    [key], {});\n",
              "        if (!dataTable) return;\n",
              "\n",
              "        const docLinkHtml = 'Like what you see? Visit the ' +\n",
              "          '<a target=\"_blank\" href=https://colab.research.google.com/notebooks/data_table.ipynb>data table notebook</a>'\n",
              "          + ' to learn more about interactive tables.';\n",
              "        element.innerHTML = '';\n",
              "        dataTable['output_type'] = 'display_data';\n",
              "        await google.colab.output.renderOutput(dataTable, element);\n",
              "        const docLink = document.createElement('div');\n",
              "        docLink.innerHTML = docLinkHtml;\n",
              "        element.appendChild(docLink);\n",
              "      }\n",
              "    </script>\n",
              "  </div>\n",
              "\n",
              "\n",
              "<div id=\"df-b1a4c683-da33-4117-9f70-58ee6a46cdde\">\n",
              "  <button class=\"colab-df-quickchart\" onclick=\"quickchart('df-b1a4c683-da33-4117-9f70-58ee6a46cdde')\"\n",
              "            title=\"Suggest charts\"\n",
              "            style=\"display:none;\">\n",
              "\n",
              "<svg xmlns=\"http://www.w3.org/2000/svg\" height=\"24px\"viewBox=\"0 0 24 24\"\n",
              "     width=\"24px\">\n",
              "    <g>\n",
              "        <path d=\"M19 3H5c-1.1 0-2 .9-2 2v14c0 1.1.9 2 2 2h14c1.1 0 2-.9 2-2V5c0-1.1-.9-2-2-2zM9 17H7v-7h2v7zm4 0h-2V7h2v10zm4 0h-2v-4h2v4z\"/>\n",
              "    </g>\n",
              "</svg>\n",
              "  </button>\n",
              "\n",
              "<style>\n",
              "  .colab-df-quickchart {\n",
              "      --bg-color: #E8F0FE;\n",
              "      --fill-color: #1967D2;\n",
              "      --hover-bg-color: #E2EBFA;\n",
              "      --hover-fill-color: #174EA6;\n",
              "      --disabled-fill-color: #AAA;\n",
              "      --disabled-bg-color: #DDD;\n",
              "  }\n",
              "\n",
              "  [theme=dark] .colab-df-quickchart {\n",
              "      --bg-color: #3B4455;\n",
              "      --fill-color: #D2E3FC;\n",
              "      --hover-bg-color: #434B5C;\n",
              "      --hover-fill-color: #FFFFFF;\n",
              "      --disabled-bg-color: #3B4455;\n",
              "      --disabled-fill-color: #666;\n",
              "  }\n",
              "\n",
              "  .colab-df-quickchart {\n",
              "    background-color: var(--bg-color);\n",
              "    border: none;\n",
              "    border-radius: 50%;\n",
              "    cursor: pointer;\n",
              "    display: none;\n",
              "    fill: var(--fill-color);\n",
              "    height: 32px;\n",
              "    padding: 0;\n",
              "    width: 32px;\n",
              "  }\n",
              "\n",
              "  .colab-df-quickchart:hover {\n",
              "    background-color: var(--hover-bg-color);\n",
              "    box-shadow: 0 1px 2px rgba(60, 64, 67, 0.3), 0 1px 3px 1px rgba(60, 64, 67, 0.15);\n",
              "    fill: var(--button-hover-fill-color);\n",
              "  }\n",
              "\n",
              "  .colab-df-quickchart-complete:disabled,\n",
              "  .colab-df-quickchart-complete:disabled:hover {\n",
              "    background-color: var(--disabled-bg-color);\n",
              "    fill: var(--disabled-fill-color);\n",
              "    box-shadow: none;\n",
              "  }\n",
              "\n",
              "  .colab-df-spinner {\n",
              "    border: 2px solid var(--fill-color);\n",
              "    border-color: transparent;\n",
              "    border-bottom-color: var(--fill-color);\n",
              "    animation:\n",
              "      spin 1s steps(1) infinite;\n",
              "  }\n",
              "\n",
              "  @keyframes spin {\n",
              "    0% {\n",
              "      border-color: transparent;\n",
              "      border-bottom-color: var(--fill-color);\n",
              "      border-left-color: var(--fill-color);\n",
              "    }\n",
              "    20% {\n",
              "      border-color: transparent;\n",
              "      border-left-color: var(--fill-color);\n",
              "      border-top-color: var(--fill-color);\n",
              "    }\n",
              "    30% {\n",
              "      border-color: transparent;\n",
              "      border-left-color: var(--fill-color);\n",
              "      border-top-color: var(--fill-color);\n",
              "      border-right-color: var(--fill-color);\n",
              "    }\n",
              "    40% {\n",
              "      border-color: transparent;\n",
              "      border-right-color: var(--fill-color);\n",
              "      border-top-color: var(--fill-color);\n",
              "    }\n",
              "    60% {\n",
              "      border-color: transparent;\n",
              "      border-right-color: var(--fill-color);\n",
              "    }\n",
              "    80% {\n",
              "      border-color: transparent;\n",
              "      border-right-color: var(--fill-color);\n",
              "      border-bottom-color: var(--fill-color);\n",
              "    }\n",
              "    90% {\n",
              "      border-color: transparent;\n",
              "      border-bottom-color: var(--fill-color);\n",
              "    }\n",
              "  }\n",
              "</style>\n",
              "\n",
              "  <script>\n",
              "    async function quickchart(key) {\n",
              "      const quickchartButtonEl =\n",
              "        document.querySelector('#' + key + ' button');\n",
              "      quickchartButtonEl.disabled = true;  // To prevent multiple clicks.\n",
              "      quickchartButtonEl.classList.add('colab-df-spinner');\n",
              "      try {\n",
              "        const charts = await google.colab.kernel.invokeFunction(\n",
              "            'suggestCharts', [key], {});\n",
              "      } catch (error) {\n",
              "        console.error('Error during call to suggestCharts:', error);\n",
              "      }\n",
              "      quickchartButtonEl.classList.remove('colab-df-spinner');\n",
              "      quickchartButtonEl.classList.add('colab-df-quickchart-complete');\n",
              "    }\n",
              "    (() => {\n",
              "      let quickchartButtonEl =\n",
              "        document.querySelector('#df-b1a4c683-da33-4117-9f70-58ee6a46cdde button');\n",
              "      quickchartButtonEl.style.display =\n",
              "        google.colab.kernel.accessAllowed ? 'block' : 'none';\n",
              "    })();\n",
              "  </script>\n",
              "</div>\n",
              "\n",
              "    </div>\n",
              "  </div>\n"
            ],
            "application/vnd.google.colaboratory.intrinsic+json": {
              "type": "dataframe",
              "summary": "{\n  \"name\": \"data_frame\",\n  \"rows\": 3,\n  \"fields\": [\n    {\n      \"column\": \"Nome\",\n      \"properties\": {\n        \"dtype\": \"string\",\n        \"num_unique_values\": 3,\n        \"samples\": [\n          \"Mayara\",\n          \"Isabela\",\n          \"Lorena\"\n        ],\n        \"semantic_type\": \"\",\n        \"description\": \"\"\n      }\n    },\n    {\n      \"column\": \"Email\",\n      \"properties\": {\n        \"dtype\": \"string\",\n        \"num_unique_values\": 3,\n        \"samples\": [\n          \"mayaraxavier.nunesp@gmail.com\",\n          \"isabelacoliveira@outlook.com.br\",\n          \"lorenarsantos78@gmail.com\"\n        ],\n        \"semantic_type\": \"\",\n        \"description\": \"\"\n      }\n    },\n    {\n      \"column\": \"Utm Source\",\n      \"properties\": {\n        \"dtype\": \"category\",\n        \"num_unique_values\": 1,\n        \"samples\": [\n          \"organico\"\n        ],\n        \"semantic_type\": \"\",\n        \"description\": \"\"\n      }\n    },\n    {\n      \"column\": \"Utm Campaign\",\n      \"properties\": {\n        \"dtype\": \"category\",\n        \"num_unique_values\": 1,\n        \"samples\": [\n          \"wn-organico-bio-insta-fsm\"\n        ],\n        \"semantic_type\": \"\",\n        \"description\": \"\"\n      }\n    },\n    {\n      \"column\": \"Pagina de Captura\",\n      \"properties\": {\n        \"dtype\": \"category\",\n        \"num_unique_values\": 1,\n        \"samples\": [\n          \"WEBIN\\u00c1RIO I ESTRAT\\u00c9GIA 10P I PERP\\u00c9TUO I FEV24 I ORG\\u00c2NICO\"\n        ],\n        \"semantic_type\": \"\",\n        \"description\": \"\"\n      }\n    }\n  ]\n}"
            }
          },
          "metadata": {},
          "execution_count": 17
        }
      ]
    }
  ]
}