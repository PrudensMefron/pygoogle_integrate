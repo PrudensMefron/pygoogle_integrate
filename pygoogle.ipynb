{
  "nbformat": 4,
  "nbformat_minor": 0,
  "metadata": {
    "colab": {
      "provenance": [],
      "authorship_tag": "ABX9TyNpJ0QeTZLZDytTG7edSIpP",
      "include_colab_link": true
    },
    "kernelspec": {
      "name": "python3",
      "display_name": "Python 3"
    },
    "language_info": {
      "name": "python"
    }
  },
  "cells": [
    {
      "cell_type": "markdown",
      "metadata": {
        "id": "view-in-github",
        "colab_type": "text"
      },
      "source": [
        "<a href=\"https://colab.research.google.com/github/PrudensMefron/pygoogle_integrate/blob/main/pygoogle.ipynb\" target=\"_parent\"><img src=\"https://colab.research.google.com/assets/colab-badge.svg\" alt=\"Open In Colab\"/></a>"
      ]
    },
    {
      "cell_type": "markdown",
      "source": [],
      "metadata": {
        "id": "W1fdOL1oN3oe"
      }
    },
    {
      "cell_type": "markdown",
      "source": [
        "### GSpread to read Google Sheets"
      ],
      "metadata": {
        "id": "taw0O9EpKNpe"
      }
    },
    {
      "cell_type": "code",
      "execution_count": null,
      "metadata": {
        "colab": {
          "base_uri": "https://localhost:8080/"
        },
        "id": "LatusGM0Ed4_",
        "outputId": "5b536372-ba48-412f-8726-7565294af425"
      },
      "outputs": [
        {
          "output_type": "stream",
          "name": "stdout",
          "text": [
            "Found something at R45C8\n"
          ]
        }
      ],
      "source": [
        "from google.colab import auth\n",
        "from google.auth import default\n",
        "import gspread\n",
        "\n",
        "\n",
        "## Autenticação\n",
        "auth.authenticate_user()\n",
        "creds, _ = default()\n",
        "\n",
        "gc = gspread.authorize(creds)\n",
        "\n",
        "def openGoogleSheet(key):\n",
        "  sheet = gc.open_by_key(key)\n",
        "  return sheet\n",
        "\n",
        "def findACell(inputWorksheet, keyFind):\n",
        "  worksheet = inputWorksheet\n",
        "  cell = worksheet.find(keyFind)\n",
        "  print(\"Found something at R%sC%s\" % (cell.row, cell.col))\n",
        "\n",
        "sh = openGoogleSheet(\"1minJJFe0ii_V2vFkzvckATFJJjn_L7uA8vjDm1mvEp8\")\n",
        "worksheet = sh.worksheet(\"SET\")\n",
        "findACell(worksheet, \"Iasmim\")"
      ]
    },
    {
      "cell_type": "markdown",
      "source": [
        "### InteractiveSheet to integrate at realtime (DO NOT RUN)\n",
        "\n",
        "---\n",
        "\n"
      ],
      "metadata": {
        "id": "FXssNifqKWOe"
      }
    },
    {
      "cell_type": "code",
      "source": [
        "from google.colab import sheets\n",
        "\n",
        "## Create a new interactive sheet\n",
        "sheet = sheets.InteractiveSheet()"
      ],
      "metadata": {
        "id": "94YCIRYsL-0K"
      },
      "execution_count": null,
      "outputs": []
    },
    {
      "cell_type": "code",
      "source": [
        "## Get a Pandas DataFrame from the selected worksheet\n",
        "\n",
        "df = sheet.as_df()"
      ],
      "metadata": {
        "id": "t3echHDhMGpU"
      },
      "execution_count": null,
      "outputs": []
    },
    {
      "cell_type": "code",
      "source": [
        "import pandas as pd\n",
        "import numpy as np\n",
        "\n",
        "df = pd.DataFrame(np.random.randn(10, 4),columns=list('ABCD'))\n",
        "\n",
        "## Create a new sheet and include the column names as the first row\n",
        "sheet = sheets.InteractiveSheet(df=df, title='Random Title', include_column_headers=True)"
      ],
      "metadata": {
        "id": "_9tHpKEaMOIL"
      },
      "execution_count": null,
      "outputs": []
    },
    {
      "cell_type": "code",
      "source": [
        "## Push data from Colab to the selected worksheet\n",
        "\n",
        "df2 = pd.DataFrame(np.random.randn(10, 4), columns=list('ABCD'))\n",
        "sheet.update(df=df)"
      ],
      "metadata": {
        "colab": {
          "base_uri": "https://localhost:8080/"
        },
        "id": "s1S9rCyaMsPc",
        "outputId": "9634d52a-9b05-47d3-9c6a-6ab690e41ee5"
      },
      "execution_count": null,
      "outputs": [
        {
          "output_type": "stream",
          "name": "stderr",
          "text": [
            "/usr/local/lib/python3.10/dist-packages/google/colab/sheets.py:31: FutureWarning: DataFrame.applymap has been deprecated. Use DataFrame.map instead.\n",
            "  return frame.applymap(_clean_val).replace({np.nan: None})\n"
          ]
        }
      ]
    },
    {
      "cell_type": "code",
      "source": [
        "## Display the seet in the output of the current cell\n",
        "sheet.display()"
      ],
      "metadata": {
        "id": "8nf-tjUWM8OM"
      },
      "execution_count": null,
      "outputs": []
    },
    {
      "cell_type": "markdown",
      "source": [
        "# Nova seção"
      ],
      "metadata": {
        "id": "MNz8U-QTVHVe"
      }
    }
  ]
}