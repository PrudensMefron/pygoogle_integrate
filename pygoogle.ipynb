{
  "nbformat": 4,
  "nbformat_minor": 0,
  "metadata": {
    "colab": {
      "provenance": [],
      "include_colab_link": true
    },
    "kernelspec": {
      "name": "python3",
      "display_name": "Python 3"
    },
    "language_info": {
      "name": "python"
    }
  },
  "cells": [
    {
      "cell_type": "markdown",
      "metadata": {
        "id": "view-in-github",
        "colab_type": "text"
      },
      "source": [
        "<a href=\"https://colab.research.google.com/github/PrudensMefron/pygoogle_integrate/blob/main/pygoogle.ipynb\" target=\"_parent\"><img src=\"https://colab.research.google.com/assets/colab-badge.svg\" alt=\"Open In Colab\"/></a>"
      ]
    },
    {
      "cell_type": "markdown",
      "source": [],
      "metadata": {
        "id": "W1fdOL1oN3oe"
      }
    },
    {
      "cell_type": "markdown",
      "source": [
        "## Getting Started\n",
        "\n",
        "### GSpread to read Google Sheets\n",
        "Here we use the GSpread lib to access the current user Google Drive, then access the Google Sheet throughout the ID key of the sheet.\n",
        "\n",
        "Next we get the SET worksheet, who stands for September."
      ],
      "metadata": {
        "id": "taw0O9EpKNpe"
      }
    },
    {
      "cell_type": "code",
      "execution_count": 1,
      "metadata": {
        "id": "LatusGM0Ed4_"
      },
      "outputs": [],
      "source": [
        "from google.colab import auth\n",
        "from google.auth import default\n",
        "import gspread\n",
        "\n",
        "\n",
        "## Autenticação\n",
        "auth.authenticate_user()\n",
        "creds, _ = default()\n",
        "\n",
        "gc = gspread.authorize(creds)\n",
        "\n",
        "def openGoogleSheet(key):\n",
        "  sheet = gc.open_by_key(key)\n",
        "  return sheet\n",
        "\n",
        "def findACell(inputWorksheet, keyFind):\n",
        "  worksheet = inputWorksheet\n",
        "  cell = worksheet.find(keyFind)\n",
        "  print(\"Found something at R%sC%s\" % (cell.row, cell.col))\n",
        "\n",
        "sh = openGoogleSheet(\"1minJJFe0ii_V2vFkzvckATFJJjn_L7uA8vjDm1mvEp8\")\n",
        "worksheet = sh.worksheet(\"SET\")"
      ]
    },
    {
      "cell_type": "markdown",
      "source": [
        "## Reading rows and managing data structures"
      ],
      "metadata": {
        "id": "MNz8U-QTVHVe"
      }
    },
    {
      "cell_type": "code",
      "source": [
        "import pandas as pd\n",
        "\n",
        "data_frame = pd.DataFrame(worksheet.get_all_records())\n",
        "\n",
        "data_frame."
      ],
      "metadata": {
        "id": "MgKN93ocFx6h",
        "outputId": "eaf3cc20-842d-4a17-e51d-6346d7debcf1",
        "colab": {
          "base_uri": "https://localhost:8080/"
        }
      },
      "execution_count": 2,
      "outputs": [
        {
          "output_type": "execute_result",
          "data": {
            "text/plain": [
              "(62, 33)"
            ]
          },
          "metadata": {},
          "execution_count": 2
        }
      ]
    }
  ]
}