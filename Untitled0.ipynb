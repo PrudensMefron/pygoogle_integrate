{
  "nbformat": 4,
  "nbformat_minor": 0,
  "metadata": {
    "colab": {
      "provenance": [],
      "authorship_tag": "ABX9TyOBSOOyaEvtL2Yshxx2hQbW",
      "include_colab_link": true
    },
    "kernelspec": {
      "name": "python3",
      "display_name": "Python 3"
    },
    "language_info": {
      "name": "python"
    }
  },
  "cells": [
    {
      "cell_type": "markdown",
      "metadata": {
        "id": "view-in-github",
        "colab_type": "text"
      },
      "source": [
        "<a href=\"https://colab.research.google.com/github/PrudensMefron/pygoogle_integrate/blob/main/Untitled0.ipynb\" target=\"_parent\"><img src=\"https://colab.research.google.com/assets/colab-badge.svg\" alt=\"Open In Colab\"/></a>"
      ]
    },
    {
      "cell_type": "markdown",
      "source": [
        "### GSpread to read Google Sheets"
      ],
      "metadata": {
        "id": "taw0O9EpKNpe"
      }
    },
    {
      "cell_type": "code",
      "execution_count": 4,
      "metadata": {
        "colab": {
          "base_uri": "https://localhost:8080/"
        },
        "id": "LatusGM0Ed4_",
        "outputId": "5b536372-ba48-412f-8726-7565294af425"
      },
      "outputs": [
        {
          "output_type": "stream",
          "name": "stdout",
          "text": [
            "Found something at R45C8\n"
          ]
        }
      ],
      "source": [
        "from google.colab import auth\n",
        "from google.auth import default\n",
        "import gspread\n",
        "\n",
        "\n",
        "## Autenticação\n",
        "auth.authenticate_user()\n",
        "creds, _ = default()\n",
        "\n",
        "gc = gspread.authorize(creds)\n",
        "\n",
        "def openGoogleSheet(key):\n",
        "  sheet = gc.open_by_key(key)\n",
        "  return sheet\n",
        "\n",
        "def findACell(inputWorksheet, keyFind):\n",
        "  worksheet = inputWorksheet\n",
        "  cell = worksheet.find(keyFind)\n",
        "  print(\"Found something at R%sC%s\" % (cell.row, cell.col))\n",
        "\n",
        "sh = openGoogleSheet(\"1minJJFe0ii_V2vFkzvckATFJJjn_L7uA8vjDm1mvEp8\")\n",
        "worksheet = sh.worksheet(\"SET\")\n",
        "findACell(worksheet, \"Iasmim\")"
      ]
    },
    {
      "cell_type": "markdown",
      "source": [
        "### InteractiveSheet to integrate at realtime"
      ],
      "metadata": {
        "id": "FXssNifqKWOe"
      }
    },
    {
      "cell_type": "code",
      "source": [],
      "metadata": {
        "id": "VJNdxJJpKdbQ"
      },
      "execution_count": null,
      "outputs": []
    }
  ]
}